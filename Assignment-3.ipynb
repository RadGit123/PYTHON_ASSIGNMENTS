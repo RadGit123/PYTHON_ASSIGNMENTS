{
 "cells": [
  {
   "cell_type": "markdown",
   "id": "4e442c1c-447f-4c48-9a9a-d42fa2dde958",
   "metadata": {},
   "source": [
    "1.**Write a program that reads an integer value between 1 and 12 from the user and prints output the corresponding month of the year**.\n"
   ]
  },
  {
   "cell_type": "raw",
   "id": "10a08641-be43-4f83-a470-46f2a00f9932",
   "metadata": {},
   "source": [
    "MonthNames"
   ]
  },
  {
   "cell_type": "code",
   "execution_count": 1,
   "id": "cfef359a-b11f-4495-a8b6-179db38a51bc",
   "metadata": {},
   "outputs": [
    {
     "name": "stdin",
     "output_type": "stream",
     "text": [
      "Enter the Number: 4\n"
     ]
    },
    {
     "name": "stdout",
     "output_type": "stream",
     "text": [
      "THE MONTH 4 IS April\n"
     ]
    }
   ],
   "source": [
    "M=['January','February','March','April','May','June','July','Augest','September','October','November','December']\n",
    "\n",
    "E=int(input(\"Enter the Number:\"))       \n",
    "\n",
    "if E>=1  and E<=12:\n",
    "  print(f\"THE MONTH {E} IS {M[E-1]}\")\n",
    "else:\n",
    "  print(\"The number is not valid\")\n"
   ]
  },
  {
   "cell_type": "code",
   "execution_count": null,
   "id": "d331761f-3e60-400e-9263-6891ac056673",
   "metadata": {},
   "outputs": [],
   "source": []
  },
  {
   "cell_type": "markdown",
   "id": "44680c28-6c77-4bdc-b181-8e715beff633",
   "metadata": {},
   "source": [
    "2.**A certain cinema currently sells tickets for a full price of 6 pounds, but always sells tickets for half price to people who are less than 16 years old, and for a third of the price for people who are 60 years old or more**.\n"
   ]
  },
  {
   "cell_type": "code",
   "execution_count": null,
   "id": "bbe59268-eb96-427e-be03-09ae77a7bb4b",
   "metadata": {},
   "outputs": [],
   "source": []
  },
  {
   "cell_type": "code",
   "execution_count": 43,
   "id": "9a9d49f4-c11b-4308-8450-2bf1ce58f813",
   "metadata": {},
   "outputs": [
    {
     "name": "stdin",
     "output_type": "stream",
     "text": [
      " Enter your age: 11\n"
     ]
    },
    {
     "name": "stdout",
     "output_type": "stream",
     "text": [
      "your ticket price is : 3.0\n"
     ]
    }
   ],
   "source": [
    "fullprice= 6\n",
    "\n",
    "P=int(input(\" Enter your age:\"))\n",
    "if P>= 60:\n",
    " print(\"your ticket price is :\",fullprice/3)\n",
    "elif P<= 16:\n",
    " print(\"your ticket price is :\",fullprice/2)\n",
    "else :\n",
    " print(\"your ticket price is:\",fullprice)\n",
    "    "
   ]
  },
  {
   "cell_type": "code",
   "execution_count": null,
   "id": "fb3c4185-7e63-489b-a621-0c0510f498c3",
   "metadata": {},
   "outputs": [],
   "source": [
    "# or "
   ]
  },
  {
   "cell_type": "code",
   "execution_count": 42,
   "id": "8afd6c21-27e5-4772-9015-a3aaaf75b6f6",
   "metadata": {},
   "outputs": [
    {
     "name": "stdin",
     "output_type": "stream",
     "text": [
      " Enter your age: 45\n"
     ]
    },
    {
     "name": "stdout",
     "output_type": "stream",
     "text": [
      "your ticket price is 6\n"
     ]
    }
   ],
   "source": [
    "P=int(input(\" Enter your age:\"))\n",
    "if P>= 60:\n",
    " print(\"your ticket price is 2\")\n",
    "elif P<= 16:\n",
    " print(\"your ticket price is 3\")\n",
    "else:\n",
    " print(\"your ticket price is 6\")\n",
    "    "
   ]
  },
  {
   "cell_type": "raw",
   "id": "13b1dac1-def8-4564-ab60-8935b4efb032",
   "metadata": {},
   "source": []
  },
  {
   "cell_type": "markdown",
   "id": "0a54e4db-f0a9-45a0-80a8-1e8a0d1d25e4",
   "metadata": {},
   "source": [
    "3.**BMI formula accepts weight in kilograms and height in meters**\n"
   ]
  },
  {
   "cell_type": "code",
   "execution_count": 2,
   "id": "ae1b7529-d740-4596-83bc-cad11e1926fb",
   "metadata": {
    "jp-MarkdownHeadingCollapsed": true
   },
   "outputs": [
    {
     "name": "stdin",
     "output_type": "stream",
     "text": [
      " Enter your weight: 88\n",
      " Enter your height: 1.61\n"
     ]
    },
    {
     "name": "stdout",
     "output_type": "stream",
     "text": [
      "your BMI is : 33.94930751128428\n",
      "you are in the obese range\n"
     ]
    }
   ],
   "source": [
    "W=float(input(\" Enter your weight:\"))\n",
    "H=float(input(\" Enter your height:\"))\n",
    "\n",
    "if W<=0 or H<=0:\n",
    " print(\"NO RESULT\")\n",
    "\n",
    "else:\n",
    "   BMI=W/(H*H)\n",
    "\n",
    "\n",
    "   if BMI <18.5:\n",
    "    Catagory=\"underweight\"\n",
    " \n",
    "   elif 18.5<=BMI<25:\n",
    " \n",
    "    Catagory=\"normal\"\n",
    "    \n",
    "   elif 25<=BMI<30:\n",
    "    \n",
    "    Catagory=\"overweight\"\n",
    "\n",
    "   else:\n",
    "    \n",
    "    Catagory=\"obese\"  \n",
    "\n",
    "   print(\"your BMI is :\",BMI)\n",
    "   print(f\"you are in the {Catagory} range\")\n",
    "    "
   ]
  },
  {
   "cell_type": "code",
   "execution_count": null,
   "id": "5d626cac-8deb-48c4-9d44-28ce102c0537",
   "metadata": {},
   "outputs": [],
   "source": [
    "# or"
   ]
  },
  {
   "cell_type": "code",
   "execution_count": 4,
   "id": "8a584d82-ca7e-4d50-9b76-981d0010e0f6",
   "metadata": {},
   "outputs": [
    {
     "name": "stdin",
     "output_type": "stream",
     "text": [
      " Enter your weight: 88\n",
      " Enter your height: 1.61\n"
     ]
    },
    {
     "name": "stdout",
     "output_type": "stream",
     "text": [
      "you are obese\n"
     ]
    }
   ],
   "source": [
    "\n",
    "\n",
    "W=float(input(\" Enter your weight:\"))\n",
    "H=float(input(\" Enter your height:\"))\n",
    "\n",
    "if W<=0 or H<=0:\n",
    " print(\"NO RESULT\")\n",
    "\n",
    "else:\n",
    "   BMI=W/(H*H)\n",
    "\n",
    "BMI=W/(H*H)\n",
    "\n",
    "if BMI <18.5:\n",
    " print(\"your BMI is :\",BMI)\n",
    " print(\"you are in the underwight range\")\n",
    " \n",
    "elif 18.5<=BMI<25:\n",
    " print(\"your BMI is :\",BMI)\n",
    " print(\"you are in the normal range\")\n",
    " \n",
    "elif 25<=BMI<30:\n",
    " print(\"your BMI is :\",BMI)\n",
    " print(\"you are in the overwight range\")\n",
    "\n",
    "else:\n",
    " print(\"you are obese\")\n",
    "  "
   ]
  },
  {
   "cell_type": "raw",
   "id": "b381ac64-3fc7-449b-9276-74b2c17fddf7",
   "metadata": {},
   "source": []
  },
  {
   "cell_type": "markdown",
   "id": "5c1e434c-3276-48e3-aa74-9a6b27e86501",
   "metadata": {},
   "source": [
    "4.**Write a Python program to receive 3 numbers from the user and print the greatest among them**"
   ]
  },
  {
   "cell_type": "code",
   "execution_count": 99,
   "id": "0f788ec6-e236-4283-9d77-1621c0470d21",
   "metadata": {},
   "outputs": [
    {
     "name": "stdin",
     "output_type": "stream",
     "text": [
      "Enter the first  Number: 2\n",
      "Enter the second  Number: 4\n",
      "Enter the third Number: 8\n"
     ]
    },
    {
     "name": "stdout",
     "output_type": "stream",
     "text": [
      "8is the biggest number\n"
     ]
    }
   ],
   "source": [
    "a=int(input(\"Enter the first  Number:\"))\n",
    "b=int(input(\"Enter the second  Number:\"))\n",
    "c=int(input(\"Enter the third Number:\"))\n",
    "\n",
    "if a>b and a>c:\n",
    " print(f\" {a} is the biggest number\")\n",
    "       \n",
    "elif b>a and b>c:\n",
    " print(f\"{b}is the biggest number\")\n",
    "\n",
    "else:\n",
    "  print(f\"{c }is the biggest number\")     \n"
   ]
  },
  {
   "cell_type": "code",
   "execution_count": null,
   "id": "f9330369-2151-4c45-b3e8-5b370151ba17",
   "metadata": {},
   "outputs": [],
   "source": []
  },
  {
   "cell_type": "markdown",
   "id": "be3ffdef-fb13-4041-b118-3d70db2bad27",
   "metadata": {},
   "source": [
    "5.**Find the factorial of a given number using loops(note the number is received from the user)**"
   ]
  },
  {
   "cell_type": "code",
   "execution_count": 10,
   "id": "df144160-1f9f-4570-9bd9-ffea695073c7",
   "metadata": {},
   "outputs": [
    {
     "name": "stdin",
     "output_type": "stream",
     "text": [
      "Enter the Number: 5\n"
     ]
    },
    {
     "name": "stdout",
     "output_type": "stream",
     "text": [
      " the factorial  of 5 is 120\n"
     ]
    }
   ],
   "source": [
    "a=int(input(\"Enter the Number:\"))\n",
    "\n",
    "factorial=1\n",
    "\n",
    "if a<0:\n",
    "  print(\" Enter only positive number\")\n",
    "elif a==0:\n",
    "  print(\" THE FACTORIAL OF O IS 1\")\n",
    "else:\n",
    "\n",
    " for i in range(1,a+1):           # for loop\n",
    "  factorial *=i\n",
    " print(f\" the factorial  of {a} is {factorial }\")\n",
    "    \n",
    "\n"
   ]
  },
  {
   "cell_type": "code",
   "execution_count": null,
   "id": "6181f939-ad7a-400c-84a9-1578509a86e1",
   "metadata": {},
   "outputs": [],
   "source": []
  },
  {
   "cell_type": "code",
   "execution_count": null,
   "id": "9124e2ab-cc6e-4c53-894d-1fda04694cbd",
   "metadata": {},
   "outputs": [],
   "source": [
    "# or"
   ]
  },
  {
   "cell_type": "code",
   "execution_count": 9,
   "id": "ae0f4ac0-f5ea-416b-a454-266f1456ea1b",
   "metadata": {},
   "outputs": [
    {
     "name": "stdin",
     "output_type": "stream",
     "text": [
      "Enter the number: 5\n"
     ]
    },
    {
     "name": "stdout",
     "output_type": "stream",
     "text": [
      " the factorial  of 5 is 120\n"
     ]
    }
   ],
   "source": [
    "a=int(input(\"Enter the number:\"))\n",
    "\n",
    "factorial=1\n",
    "num=a\n",
    "if a<0:\n",
    " print(\" Enter only positive number\")\n",
    "elif a==0:\n",
    " print(\" THE FACTORIAL OF O IS 1\")\n",
    "    \n",
    "else:\n",
    "  while a>0:                # while loop\n",
    "    factorial *=a\n",
    "    a -=1\n",
    "  print(f\" the factorial  of {num} is {factorial}\")\n",
    "    \n"
   ]
  },
  {
   "cell_type": "code",
   "execution_count": null,
   "id": "cd1ccdcc-3a87-45d6-b801-fa5ef87cc4c5",
   "metadata": {},
   "outputs": [],
   "source": []
  },
  {
   "cell_type": "markdown",
   "id": "d01fa64b-cc51-42f6-9a2e-541cc89c89d0",
   "metadata": {},
   "source": [
    "6.**Reverse a number using while loop**\n"
   ]
  },
  {
   "cell_type": "code",
   "execution_count": 8,
   "id": "53985ead-f617-4118-b230-5366d0b279b1",
   "metadata": {},
   "outputs": [
    {
     "name": "stdin",
     "output_type": "stream",
     "text": [
      "Enter the number: 2345\n"
     ]
    },
    {
     "name": "stdout",
     "output_type": "stream",
     "text": [
      " the reverse of 2345 is 5432\n"
     ]
    }
   ],
   "source": [
    "a=(int(input(\"Enter the number:\")))\n",
    "\n",
    "if a==0:\n",
    " print(\" The reverse is  0\")\n",
    "    \n",
    "else:\n",
    "     a_reverse =\"\"     # empty space\n",
    "     a=str(a)\n",
    "     index= len(str(a))-1\n",
    "     while index >=0:\n",
    "      a_reverse += a[index]\n",
    "      index -=1\n",
    "     print(f\" the reverse of {a} is {a_reverse}\")\n",
    "    "
   ]
  },
  {
   "cell_type": "code",
   "execution_count": null,
   "id": "735259e2-4f24-4290-b49b-3a7bd8581764",
   "metadata": {},
   "outputs": [],
   "source": []
  },
  {
   "cell_type": "markdown",
   "id": "bf19f1d9-beb1-4100-81c5-793f9b615e4c",
   "metadata": {},
   "source": [
    "7.**Finding the multiples of a number using loop**"
   ]
  },
  {
   "cell_type": "code",
   "execution_count": 41,
   "id": "d7806967-befa-417d-a796-44ae632a0c9c",
   "metadata": {},
   "outputs": [
    {
     "name": "stdin",
     "output_type": "stream",
     "text": [
      "Enter the Number: 7\n"
     ]
    },
    {
     "name": "stdout",
     "output_type": "stream",
     "text": [
      " multiple of 7 are (7, 14, 21, 28, 35, 42, 49, 56, 63, 70)\n"
     ]
    }
   ],
   "source": [
    "a=int(input(\"Enter the Number:\"))\n",
    "\n",
    "multiple=1\n",
    "if a<0:\n",
    "  print(\"only multiple is zero\")\n",
    "\n",
    "else:\n",
    "  multiple=tuple(a*i for i in range(1,11))\n",
    "  print(f\" multiple of {a} are { multiple}\")"
   ]
  },
  {
   "cell_type": "code",
   "execution_count": null,
   "id": "7d1398f0-5b53-420a-bfb5-49016cb989ac",
   "metadata": {},
   "outputs": [],
   "source": []
  },
  {
   "cell_type": "markdown",
   "id": "1e33cbad-ab38-4019-8eba-649d2cc1878b",
   "metadata": {},
   "source": [
    "8.**Write a program to print the inputted value as it is and break the loop if the value is 'done'.**"
   ]
  },
  {
   "cell_type": "code",
   "execution_count": 5,
   "id": "632ae4a3-fc8b-4320-b335-c50f7d65819f",
   "metadata": {},
   "outputs": [
    {
     "name": "stdin",
     "output_type": "stream",
     "text": [
      "Enter the command: hi\n"
     ]
    },
    {
     "name": "stdout",
     "output_type": "stream",
     "text": [
      "hi\n"
     ]
    },
    {
     "name": "stdin",
     "output_type": "stream",
     "text": [
      "Enter the command: sorry\n"
     ]
    },
    {
     "name": "stdout",
     "output_type": "stream",
     "text": [
      "sorry\n"
     ]
    },
    {
     "name": "stdin",
     "output_type": "stream",
     "text": [
      "Enter the command: hi there\n"
     ]
    },
    {
     "name": "stdout",
     "output_type": "stream",
     "text": [
      "hi there\n"
     ]
    },
    {
     "name": "stdin",
     "output_type": "stream",
     "text": [
      "Enter the command: hello theere\n"
     ]
    },
    {
     "name": "stdout",
     "output_type": "stream",
     "text": [
      "hello theere\n"
     ]
    },
    {
     "name": "stdin",
     "output_type": "stream",
     "text": [
      "Enter the command: done\n"
     ]
    },
    {
     "name": "stdout",
     "output_type": "stream",
     "text": [
      "Done\n"
     ]
    }
   ],
   "source": [
    "\n",
    "while True :\n",
    " a=str(input(\"Enter the command:\"))\n",
    " if a==\"done\":\n",
    "      break\n",
    " print(a)\n",
    "  \n",
    "print(\"Done\")\n",
    "\n",
    "\n"
   ]
  },
  {
   "cell_type": "code",
   "execution_count": null,
   "id": "f886081a-6757-43b7-88a9-6389d17a1467",
   "metadata": {},
   "outputs": [],
   "source": []
  },
  {
   "cell_type": "markdown",
   "id": "16e49b8e-0757-4baf-9583-3f92e7e8c5b0",
   "metadata": {},
   "source": [
    "9.**Write a program that prints the numbers from 1 to 10. But for multiples of three print \"Fizz\" instead of the number and for the multiple of five print \"Buzz\". For numbers which are multiples of both three and five print \"FizzBuzz\"**"
   ]
  },
  {
   "cell_type": "code",
   "execution_count": 7,
   "id": "df4eb6c8-0955-4a63-99b6-1690d7a2baff",
   "metadata": {},
   "outputs": [
    {
     "name": "stdin",
     "output_type": "stream",
     "text": [
      "Enter the number: 5\n"
     ]
    },
    {
     "name": "stdout",
     "output_type": "stream",
     "text": [
      "Buzz\n"
     ]
    },
    {
     "name": "stdin",
     "output_type": "stream",
     "text": [
      "Enter the number: 1\n"
     ]
    },
    {
     "name": "stdout",
     "output_type": "stream",
     "text": [
      "1\n"
     ]
    },
    {
     "name": "stdin",
     "output_type": "stream",
     "text": [
      "Enter the number: 2\n"
     ]
    },
    {
     "name": "stdout",
     "output_type": "stream",
     "text": [
      "2\n"
     ]
    },
    {
     "name": "stdin",
     "output_type": "stream",
     "text": [
      "Enter the number: 3\n"
     ]
    },
    {
     "name": "stdout",
     "output_type": "stream",
     "text": [
      "Fizz\n"
     ]
    },
    {
     "name": "stdin",
     "output_type": "stream",
     "text": [
      "Enter the number: 4\n"
     ]
    },
    {
     "name": "stdout",
     "output_type": "stream",
     "text": [
      "4\n"
     ]
    },
    {
     "name": "stdin",
     "output_type": "stream",
     "text": [
      "Enter the number: 6\n"
     ]
    },
    {
     "name": "stdout",
     "output_type": "stream",
     "text": [
      "Fizz\n"
     ]
    },
    {
     "name": "stdin",
     "output_type": "stream",
     "text": [
      "Enter the number: 7\n"
     ]
    },
    {
     "name": "stdout",
     "output_type": "stream",
     "text": [
      "7\n"
     ]
    },
    {
     "name": "stdin",
     "output_type": "stream",
     "text": [
      "Enter the number: 8\n"
     ]
    },
    {
     "name": "stdout",
     "output_type": "stream",
     "text": [
      "8\n"
     ]
    },
    {
     "name": "stdin",
     "output_type": "stream",
     "text": [
      "Enter the number: 9\n"
     ]
    },
    {
     "name": "stdout",
     "output_type": "stream",
     "text": [
      "Fizz\n"
     ]
    },
    {
     "name": "stdin",
     "output_type": "stream",
     "text": [
      "Enter the number: 10\n"
     ]
    },
    {
     "name": "stdout",
     "output_type": "stream",
     "text": [
      "Buzz\n",
      " no more trial\n"
     ]
    }
   ],
   "source": [
    "\n",
    "\n",
    " Try=10\n",
    "while Try>0:\n",
    "  a=int(input(\"Enter the number:\"))\n",
    "  if a>10 or a <1:\n",
    "    print(\" enter a number between 1 and 10\")\n",
    "    continue\n",
    "     \n",
    "  if a%3== 0 :\n",
    "    print(\"Fizz\")\n",
    "  \n",
    "  elif a%5== 0 :\n",
    "    print(\"Buzz\")\n",
    "\n",
    "  elif a%3== 0  and a%5== 0 :\n",
    "     \n",
    "   print(\"FizzBuzz\")\n",
    "\n",
    "  else :\n",
    "   print(a)\n",
    "  Try -=1 \n",
    "print(\" no more trial\")"
   ]
  },
  {
   "cell_type": "code",
   "execution_count": null,
   "id": "66b9b9b6-5d5e-4c65-9df5-21ed32b583fc",
   "metadata": {},
   "outputs": [],
   "source": [
    "# OR"
   ]
  },
  {
   "cell_type": "code",
   "execution_count": 11,
   "id": "cbba98d3-fb57-4250-a77d-230dd56f31f1",
   "metadata": {},
   "outputs": [
    {
     "name": "stdout",
     "output_type": "stream",
     "text": [
      "1\n",
      "2\n",
      "Fizz\n",
      "4\n",
      "Buzz\n",
      "Fizz\n",
      "7\n",
      "8\n",
      "Fizz\n",
      "Buzz\n",
      "over\n"
     ]
    }
   ],
   "source": [
    "a=1\n",
    "while a<=10:\n",
    " if a%3== 0 :\n",
    "  print(\"Fizz\")\n",
    "  \n",
    " elif a%5== 0 :\n",
    "  print(\"Buzz\")\n",
    "\n",
    " elif a%3== 0  and a%5== 0 :\n",
    "     \n",
    "  print(\"FizzBuzz\")\n",
    "\n",
    " else :\n",
    "   print(a)\n",
    " a+=1\n",
    "print(\"over\")"
   ]
  },
  {
   "cell_type": "code",
   "execution_count": null,
   "id": "7f364da0-3f03-4a56-8aa2-c225616eb9e2",
   "metadata": {},
   "outputs": [],
   "source": []
  },
  {
   "cell_type": "markdown",
   "id": "5081a213-dab1-4a3b-83ea-16de2455b222",
   "metadata": {},
   "source": [
    "10.**Reverse a number using while loop**"
   ]
  },
  {
   "cell_type": "code",
   "execution_count": 15,
   "id": "151eb630-fddd-4788-8cc7-4b4ce30503c4",
   "metadata": {},
   "outputs": [
    {
     "name": "stdout",
     "output_type": "stream",
     "text": [
      "5 4 3 2 1 \n",
      "4 3 2 1 \n",
      "3 2 1 \n",
      "2 1 \n",
      "1 \n"
     ]
    }
   ],
   "source": [
    "for i in range(5,0,-1):\n",
    " for j in range(i,0,-1):\n",
    "    print(j, end =\" \")\n",
    " print()"
   ]
  },
  {
   "cell_type": "code",
   "execution_count": null,
   "id": "b8b90dd7-63c4-4feb-a9fe-6c20ae08a220",
   "metadata": {},
   "outputs": [],
   "source": []
  }
 ],
 "metadata": {
  "kernelspec": {
   "display_name": "Python 3 (ipykernel)",
   "language": "python",
   "name": "python3"
  },
  "language_info": {
   "codemirror_mode": {
    "name": "ipython",
    "version": 3
   },
   "file_extension": ".py",
   "mimetype": "text/x-python",
   "name": "python",
   "nbconvert_exporter": "python",
   "pygments_lexer": "ipython3",
   "version": "3.12.7"
  }
 },
 "nbformat": 4,
 "nbformat_minor": 5
}
