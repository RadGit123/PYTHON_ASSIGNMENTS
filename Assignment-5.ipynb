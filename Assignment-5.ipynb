{
 "cells": [
  {
   "cell_type": "markdown",
   "id": "4c1e2849-d487-403f-990d-de92a9e73b4c",
   "metadata": {},
   "source": [
    "1"
   ]
  },
  {
   "cell_type": "code",
   "execution_count": null,
   "id": "c83f690f-e351-44f6-a771-f4ed7868e61d",
   "metadata": {},
   "outputs": [],
   "source": [
    "a Python program to read a file and display its contents\n"
   ]
  },
  {
   "cell_type": "markdown",
   "id": "93e697d7-0624-400c-9218-455d26a0e679",
   "metadata": {},
   "source": [
    "# 1.creating a file."
   ]
  },
  {
   "cell_type": "code",
   "execution_count": 3,
   "id": "54b9a89c-8d7f-411a-b66b-94387f97a172",
   "metadata": {},
   "outputs": [],
   "source": [
    "File_Name=\"Welcome_Message.txt\"\n",
    "with open(File_Name,'w') as File_1 :\n",
    " File_1.write(\"HI, WELCOME TO OUR SHOP.\\n\")\n",
    " File_1.write(\"YOU HAVE BECOME ONE OF OUR VALAUBLE CUSTOMERS \")   \n"
   ]
  },
  {
   "cell_type": "code",
   "execution_count": 4,
   "id": "52bc26c0-f409-4982-928b-d6ed38b7847e",
   "metadata": {},
   "outputs": [
    {
     "name": "stdout",
     "output_type": "stream",
     "text": [
      " The content of the file is:\n",
      "\n",
      "HI, WELCOME TO OUR SHOP.\n",
      "YOU HAVE BECOME ONE OF OUR VALAUBLE CUSTOMERS \n"
     ]
    }
   ],
   "source": [
    "with open(File_Name,'r') as File_Content:\n",
    " content=File_Content.read()\n",
    "print(\" The content of the file is:\\n\")\n",
    "print(content)\n",
    " "
   ]
  },
  {
   "cell_type": "code",
   "execution_count": 10,
   "id": "649cc1aa-3e2e-48e0-97b0-30053e687f49",
   "metadata": {},
   "outputs": [
    {
     "name": "stdout",
     "output_type": "stream",
     "text": [
      "Current working directory: C:\\Users\\SR\\Desktop\\Entry python(jupiter notebook)\\NOTEBOOKS\n"
     ]
    }
   ],
   "source": [
    "import os\n",
    "\n",
    "print(\"Current working directory:\", os.getcwd())"
   ]
  },
  {
   "cell_type": "code",
   "execution_count": null,
   "id": "30728538-ec54-4f3a-86e7-edc35628281c",
   "metadata": {},
   "outputs": [],
   "source": []
  },
  {
   "cell_type": "markdown",
   "id": "6011cf98-e2a0-4490-bdce-a1b0cc5337db",
   "metadata": {},
   "source": [
    "# 2.Python program to copy the contents of one file to another file.\n"
   ]
  },
  {
   "cell_type": "code",
   "execution_count": 7,
   "id": "907cad93-6685-4fce-b740-16563eeef41f",
   "metadata": {},
   "outputs": [
    {
     "name": "stdout",
     "output_type": "stream",
     "text": [
      " copied content in second_file is now:\n",
      " HI, WELCOME TO OUR SHOP.\n",
      "YOU HAVE BECOME ONE OF OUR VALAUBLE CUSTOMERS \n"
     ]
    }
   ],
   "source": [
    "\n",
    "File_Name=\"Welcome_Message.txt\"\n",
    "Second_file=\"Copy of  Welcome message.txt\"\n",
    "\n",
    "with open(File_Name,'r') as File_1:\n",
    " content=File_1.read()\n",
    "\n",
    "with open(Second_file,'w') as File_2:\n",
    " Content_2=File_2.write(content)\n",
    "\n",
    "\n",
    "with open(Second_file,'r') as File_2:\n",
    " Content_of_second_file =File_2.read()\n",
    "    \n",
    " print(\" copied content in second_file is now:\\n\", Content_of_second_file)   "
   ]
  },
  {
   "cell_type": "code",
   "execution_count": null,
   "id": "906ba8cd-aea8-4ee0-ba1c-ad3defbffbb2",
   "metadata": {},
   "outputs": [],
   "source": []
  },
  {
   "cell_type": "markdown",
   "id": "aa16c463-3aad-4549-bf58-9529b180d3a5",
   "metadata": {},
   "source": [
    " # 3.Python program to read the content of a file and count the total number of words in that file.\n"
   ]
  },
  {
   "cell_type": "code",
   "execution_count": 8,
   "id": "7e648aa1-8076-4638-80f6-6df4fc65abbb",
   "metadata": {},
   "outputs": [
    {
     "name": "stdout",
     "output_type": "stream",
     "text": [
      " Number of word in file Welcome_Message.txt is 13 \n"
     ]
    }
   ],
   "source": [
    "def Count_of_words_in_file(File_Name):\n",
    "\n",
    "  try:\n",
    "   with open(File_Name,'r') as File_1:\n",
    "     content=File_1.read()\n",
    "\n",
    "     words= content.split()   # to split into words\n",
    "    \n",
    "     return len(words)\n",
    "    \n",
    "  except FileNotFoundError:\n",
    "   print(\" the file not found\")\n",
    "   return None\n",
    " \n",
    "File_Name=\"Welcome_Message.txt\"\n",
    "\n",
    "Number_of_Words_in_File=Count_of_words_in_file(File_Name)\n",
    "\n",
    "if Number_of_Words_in_File is not None:\n",
    " print(f\" Number of word in file {File_Name} is {Number_of_Words_in_File} \")\n"
   ]
  },
  {
   "cell_type": "code",
   "execution_count": null,
   "id": "280a164b-7707-41e6-8f17-478cb69f5c18",
   "metadata": {},
   "outputs": [],
   "source": []
  },
  {
   "cell_type": "markdown",
   "id": "7b66a2e8-2118-4985-bf20-8c615a82caef",
   "metadata": {},
   "source": [
    "# 4.Python program that prompts the user to input a string and converts it to an integer. Use try-except blocks to handle any exceptions that might occur.\n"
   ]
  },
  {
   "cell_type": "code",
   "execution_count": 10,
   "id": "91cb9bb3-4abf-4be3-8c89-3b2064157f4d",
   "metadata": {},
   "outputs": [
    {
     "name": "stdin",
     "output_type": "stream",
     "text": [
      "Enter the string: 345\n"
     ]
    },
    {
     "name": "stdout",
     "output_type": "stream",
     "text": [
      "type of N: <class 'str'>\n",
      "type of I: <class 'int'>\n",
      "The convereted number is: 345\n"
     ]
    }
   ],
   "source": [
    "def integer_conversion():\n",
    " N=input(\"Enter the string:\")\n",
    " print(\"type of N:\",type(N))   \n",
    " try:   \n",
    "  I=int(N)\n",
    "  print(\"type of I:\",type(I))   \n",
    "  return(I)\n",
    " except ValueError: \n",
    "  print(\" enter a valid input\")\n",
    "  return None\n",
    "CS=integer_conversion()\n",
    "if CS is not None:\n",
    " print(\"The convereted number is:\",CS)\n",
    " \n",
    " "
   ]
  },
  {
   "cell_type": "markdown",
   "id": "0545b7fd-e329-4c05-91eb-6bba0ac2bc68",
   "metadata": {},
   "source": [
    "OR"
   ]
  },
  {
   "cell_type": "code",
   "execution_count": 11,
   "id": "5edfa2ee-50c1-4c02-9e27-b586955e4278",
   "metadata": {},
   "outputs": [
    {
     "name": "stdin",
     "output_type": "stream",
     "text": [
      "Enter the string: 345\n"
     ]
    },
    {
     "name": "stdout",
     "output_type": "stream",
     "text": [
      "type of N: <class 'str'>\n",
      "type of I: <class 'int'>\n",
      "The convereted number is: 345\n"
     ]
    }
   ],
   "source": [
    "def integer_conversion():\n",
    " N=input(\"Enter the string:\")\n",
    "    \n",
    " try:   \n",
    "  I=int(N)\n",
    "  print(\"type of N:\",type(N)) \n",
    "  print(\"type of I:\",type(I))   \n",
    "  return(I)\n",
    " except ValueError: \n",
    "  print(\" enter a valid input\")\n",
    "  return None\n",
    " \n",
    "CS=integer_conversion()\n",
    "if CS is not None:\n",
    " print(\"The convereted number is:\",CS)\n",
    " "
   ]
  },
  {
   "cell_type": "code",
   "execution_count": null,
   "id": "ea5aa4d6-03ec-4282-82a0-25e2f289b7d1",
   "metadata": {},
   "outputs": [],
   "source": []
  },
  {
   "cell_type": "markdown",
   "id": "c30af893-edc9-47fa-9c14-ab4d1acac91d",
   "metadata": {},
   "source": [
    "# 5.Python program that prompts the user to input a list of integers and raises an exception if any of the integers in the list are negative.\n"
   ]
  },
  {
   "cell_type": "markdown",
   "id": "2f506f42-56ee-4dd3-966d-42025c199525",
   "metadata": {},
   "source": [
    "METHOD 1_IDENTIFY ONLY ONE -VE NUMBER  AT A TIME"
   ]
  },
  {
   "cell_type": "code",
   "execution_count": 27,
   "id": "a520e6d3-44ae-4930-9261-4f8481a8500d",
   "metadata": {},
   "outputs": [
    {
     "name": "stdin",
     "output_type": "stream",
     "text": [
      "Enter the list of numbers: 1 -2 -3\n"
     ]
    },
    {
     "name": "stdout",
     "output_type": "stream",
     "text": [
      "an error occured: negative number is found -2\n"
     ]
    }
   ],
   "source": [
    "def list_function():\n",
    "    \n",
    " try: \n",
    "   L=[int(x) for x in input(\"Enter the list of numbers:\").split()]\n",
    "   for i in L:\n",
    "    if i<0:\n",
    "     raise ValueError(f\"negative number is found {i}\")\n",
    "   return L     \n",
    " except ValueError as e: \n",
    "  print(\"an error occured:\",e)\n",
    "  return None\n",
    "     \n",
    "LIST=list_function()\n",
    "if LIST is not None:\n",
    " print(\"The List is:\",LIST)"
   ]
  },
  {
   "cell_type": "code",
   "execution_count": null,
   "id": "3aecfca0-9c08-4376-98a0-32aaf16ccf42",
   "metadata": {},
   "outputs": [],
   "source": []
  },
  {
   "cell_type": "markdown",
   "id": "ff5c237c-5df1-4614-829a-e76ef0bb99f1",
   "metadata": {},
   "source": [
    "METHOD 2-IDENTIFY ALL -VE NUMBERS  AT A TIME"
   ]
  },
  {
   "cell_type": "code",
   "execution_count": 26,
   "id": "09e777ef-2fcd-47e3-b950-c664ed8926ec",
   "metadata": {},
   "outputs": [
    {
     "name": "stdin",
     "output_type": "stream",
     "text": [
      "Enter the list of numbers: 1 -2 -3\n"
     ]
    },
    {
     "name": "stdout",
     "output_type": "stream",
     "text": [
      "an error occured: negative number is found [-2, -3]\n"
     ]
    }
   ],
   "source": [
    "def list_function():\n",
    " \n",
    "    try:  \n",
    "     L=[int(x) for x in input(\"Enter the list of numbers:\").split()]\n",
    "     N=[x for x in L if x<0] \n",
    "     if N:\n",
    "      raise ValueError(f\"negative number is found {N}\")\n",
    "     return L     \n",
    "    except ValueError as e: \n",
    "     print(\"an error occured:\",e)\n",
    "     return None\n",
    "     \n",
    "LIST=list_function()\n",
    "if LIST is not None:\n",
    " print(\"The List is:\",LIST)"
   ]
  },
  {
   "cell_type": "code",
   "execution_count": null,
   "id": "3960de62-808e-499e-87fe-a056e0d99d11",
   "metadata": {},
   "outputs": [],
   "source": []
  },
  {
   "cell_type": "markdown",
   "id": "ecdd7c0c-29da-4cd8-b07b-3437250cae55",
   "metadata": {},
   "source": [
    "# 6.Python program that prompts the user to input a list of integers and computes the average of those integers. Use try-except blocks to handle any exceptions that might occur.use the finally clause to print a message indicating that the program has finished running.\n"
   ]
  },
  {
   "cell_type": "code",
   "execution_count": 13,
   "id": "c2b7c491-1d54-491a-9870-8e67d1581195",
   "metadata": {},
   "outputs": [
    {
     "name": "stdin",
     "output_type": "stream",
     "text": [
      "Enter the list of numbers: 1 2 3 4 5 6 7 -6\n"
     ]
    },
    {
     "name": "stdout",
     "output_type": "stream",
     "text": [
      " The program has fininshed running\n",
      " THE AVERAGE OF THE LIST IS: 2.75\n"
     ]
    }
   ],
   "source": [
    "def AVG_function():\n",
    " try:\n",
    "  L=[int(x) for x in input(\"Enter the list of numbers:\").split()]\n",
    "  if len(L)>0:\n",
    "    AVG=sum(L)/len(L)\n",
    "    \n",
    "  else:\n",
    "     AVG=0\n",
    "\n",
    "  return AVG \n",
    "     \n",
    " except ValueError:\n",
    "  print(\"Enter valid numbers\")\n",
    "  return None\n",
    "     \n",
    " finally:\n",
    "   print(\" The program has fininshed running\")\n",
    "\n",
    "Average_L=AVG_function()\n",
    "if Average_L is not None:\n",
    " print(f\" THE AVERAGE OF THE LIST IS:\",Average_L)\n",
    "  \n",
    "    \n",
    "     "
   ]
  },
  {
   "cell_type": "code",
   "execution_count": null,
   "id": "c2fe9672-5266-45b5-8a08-554df37483a2",
   "metadata": {},
   "outputs": [],
   "source": []
  },
  {
   "cell_type": "markdown",
   "id": "1d99ae50-8fbb-4aff-a5da-094b1fcfe1d2",
   "metadata": {},
   "source": [
    "#  7. Python program that prompts the user to input a filename and writes a string to that file. Use try-except blocks to handle any exceptions that might occur and print a welcome message if there is no exception occurred.\n"
   ]
  },
  {
   "cell_type": "code",
   "execution_count": 15,
   "id": "5c12febd-b421-4fe5-9faf-567851bc1549",
   "metadata": {},
   "outputs": [
    {
     "name": "stdin",
     "output_type": "stream",
     "text": [
      "Enter the FileName: shopmagazine.txt\n"
     ]
    },
    {
     "name": "stdout",
     "output_type": "stream",
     "text": [
      " your content is added sucessfully to the file\n",
      " Welcome,process finised\n",
      " updated content is: HERE IS TODAYS NEWS\n"
     ]
    }
   ],
   "source": [
    "def file_to_write():\n",
    "\n",
    " try:\n",
    "  FileName=input(\"Enter the FileName:\")\n",
    "  with open(FileName,'w') as File_Content:\n",
    "   File_Content.write(\"HERE IS TODAYS NEWS\")\n",
    "  print(\" your content is added sucessfully to the file\")\n",
    "  return FileName\n",
    "     \n",
    " except Exception as e:\n",
    "  print(\" an error occured\")\n",
    "  return None\n",
    "     \n",
    " finally:\n",
    "   print(f\" Welcome,process finised\" )\n",
    "    \n",
    "File_Name=file_to_write()\n",
    "\n",
    "if File_Name:\n",
    " try:\n",
    "  with open(File_Name,'r') as content:\n",
    "   Updated_content=content.read()\n",
    "   print(\" updated content is:\",Updated_content)\n",
    "    \n",
    " except Exception as e:\n",
    "  print(\" an error occured in reading\")\n",
    "      \n",
    "\n"
   ]
  },
  {
   "cell_type": "code",
   "execution_count": null,
   "id": "0afc2184-eca4-4b2f-957c-dd22c33b1110",
   "metadata": {},
   "outputs": [],
   "source": []
  }
 ],
 "metadata": {
  "kernelspec": {
   "display_name": "Python 3 (ipykernel)",
   "language": "python",
   "name": "python3"
  },
  "language_info": {
   "codemirror_mode": {
    "name": "ipython",
    "version": 3
   },
   "file_extension": ".py",
   "mimetype": "text/x-python",
   "name": "python",
   "nbconvert_exporter": "python",
   "pygments_lexer": "ipython3",
   "version": "3.12.7"
  }
 },
 "nbformat": 4,
 "nbformat_minor": 5
}
