{
 "cells": [
  {
   "cell_type": "markdown",
   "id": "095aa9e8-57cc-405a-ab83-66643c6f8196",
   "metadata": {},
   "source": [
    "# Question 1:program to manage a university's course catalog. "
   ]
  },
  {
   "cell_type": "code",
   "execution_count": 39,
   "id": "ef93ee60-88f2-4f3f-90c8-05f18045bf5a",
   "metadata": {},
   "outputs": [
    {
     "name": "stdout",
     "output_type": "stream",
     "text": [
      " course code:CS101,course name:Maths,credit hours:3,Required for major:yes\n",
      " course code:EC101,course name:Accountancy,credit hours:3,Elective type:commerce\n"
     ]
    }
   ],
   "source": [
    "class Course:\n",
    "    def __init__(self,course_code,course_name,credit_hours):\n",
    "     self.course_code=course_code\n",
    "     self.course_name=course_name\n",
    "     self.credit_hours=credit_hours\n",
    "\n",
    "    def course_info(self):\n",
    "     return f\" course code:{self.course_code},course name:{self.course_name},credit hours:{ self.credit_hours}\"\n",
    "\n",
    "\n",
    "\n",
    "class CoreCourse(Course):\n",
    "     def __init__(self,course_code,course_name,credit_hours,required_for_major):\n",
    "      super().__init__(course_code,course_name,credit_hours)\n",
    "      self.required_for_major=required_for_major\n",
    "\n",
    "     def core_course_info(self):\n",
    "      if self.required_for_major:\n",
    "        required=\"yes\"\n",
    "\n",
    "      else:\n",
    "        required=\"no\"\n",
    "    \n",
    "      return f\"{super().course_info()},Required for major:{required}\"\n",
    "\n",
    "\n",
    "\n",
    "\n",
    "class ElectiveCourse(Course):\n",
    "   def __init__(self,course_code,course_name,credit_hours,elective_type):\n",
    "    super().__init__(course_code,course_name,credit_hours)\n",
    "    self.elective_type=elective_type\n",
    "\n",
    "\n",
    "   def elective_course_info(self):\n",
    "    return f\"{super().course_info()},Elective type:{self.elective_type}\"\n",
    "\n",
    "\n",
    "\n",
    "\n",
    "Core_Course=CoreCourse(\"CS101\",\"Maths\",3,True)\n",
    "Elective_Course=ElectiveCourse(\"EC101\",\"Accountancy\",3,\"commerce\")\n",
    "\n",
    "\n",
    "print(Core_Course.core_course_info())\n",
    "print(Elective_Course.elective_course_info())"
   ]
  },
  {
   "cell_type": "code",
   "execution_count": null,
   "id": "7779b7b8-432d-4011-90f5-ee5f00c56792",
   "metadata": {},
   "outputs": [],
   "source": []
  },
  {
   "cell_type": "code",
   "execution_count": null,
   "id": "c0fc8d3c-1dfd-4826-a0a4-413261451064",
   "metadata": {},
   "outputs": [],
   "source": []
  }
 ],
 "metadata": {
  "kernelspec": {
   "display_name": "Python 3 (ipykernel)",
   "language": "python",
   "name": "python3"
  },
  "language_info": {
   "codemirror_mode": {
    "name": "ipython",
    "version": 3
   },
   "file_extension": ".py",
   "mimetype": "text/x-python",
   "name": "python",
   "nbconvert_exporter": "python",
   "pygments_lexer": "ipython3",
   "version": "3.12.7"
  }
 },
 "nbformat": 4,
 "nbformat_minor": 5
}
