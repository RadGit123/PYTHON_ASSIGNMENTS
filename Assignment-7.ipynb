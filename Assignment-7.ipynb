{
 "cells": [
  {
   "cell_type": "markdown",
   "id": "b11d436f-b64e-40b7-ac2e-d29536b4feb2",
   "metadata": {},
   "source": [
    "# 1.Create a numpy array containing the numbers from 1 to 10, and then reshape it to a 2x5 matrix."
   ]
  },
  {
   "cell_type": "code",
   "execution_count": 4,
   "id": "e8c6b7f7-cea1-4422-adaf-1c0b2358e975",
   "metadata": {},
   "outputs": [],
   "source": [
    "import numpy as np\n",
    "import pandas as pd"
   ]
  },
  {
   "cell_type": "markdown",
   "id": "2f35bd20-84a0-4312-b2c5-3410d2191a64",
   "metadata": {},
   "source": [
    "method 1"
   ]
  },
  {
   "cell_type": "code",
   "execution_count": 5,
   "id": "498ef6b7-9574-42b7-9b29-53785151a41b",
   "metadata": {},
   "outputs": [
    {
     "name": "stdout",
     "output_type": "stream",
     "text": [
      "[[ 1  2  3  4  5]\n",
      " [ 6  7  8  9 10]]\n"
     ]
    }
   ],
   "source": [
    "array=np.arange(1,11).reshape(2,5)\n",
    "print(array)\n"
   ]
  },
  {
   "cell_type": "code",
   "execution_count": null,
   "id": "36af3805-df93-41e7-a2de-ed1a80e82dbc",
   "metadata": {},
   "outputs": [],
   "source": [
    "method 2"
   ]
  },
  {
   "cell_type": "code",
   "execution_count": 19,
   "id": "44417951-0679-4e4c-b677-e51e2d98c331",
   "metadata": {},
   "outputs": [
    {
     "name": "stdout",
     "output_type": "stream",
     "text": [
      "[[ 1  2  3  4  5]\n",
      " [ 6  7  8  9 10]]\n"
     ]
    }
   ],
   "source": [
    "array=np.linspace(1,10,10,dtype=int).reshape(2,5)\n",
    "print(array)"
   ]
  },
  {
   "cell_type": "markdown",
   "id": "6dbda6e5-d37f-4c6c-a148-a1d640020684",
   "metadata": {},
   "source": [
    "method 3"
   ]
  },
  {
   "cell_type": "code",
   "execution_count": 20,
   "id": "fb45e011-e7ee-4a41-a600-503ab51d3d8c",
   "metadata": {},
   "outputs": [
    {
     "name": "stdout",
     "output_type": "stream",
     "text": [
      "[[ 1  2  3  4  5]\n",
      " [ 6  7  8  9 10]]\n"
     ]
    }
   ],
   "source": [
    "array=np.array(range(1,11)).reshape(2,5)\n",
    "print(array)"
   ]
  },
  {
   "cell_type": "code",
   "execution_count": null,
   "id": "5ac9f9d4-a472-47c0-beb7-944c04548a93",
   "metadata": {},
   "outputs": [],
   "source": [
    "method 4"
   ]
  },
  {
   "cell_type": "code",
   "execution_count": 23,
   "id": "4250b3f1-41f3-40b6-8fd5-f7d45386dd8c",
   "metadata": {},
   "outputs": [
    {
     "name": "stdout",
     "output_type": "stream",
     "text": [
      "[[ 4  8  3 10  2]\n",
      " [ 5  7  9  1  6]]\n"
     ]
    }
   ],
   "source": [
    "array=np.random.choice(range(1,11),size=(2,5),replace=False)\n",
    "print(array)"
   ]
  },
  {
   "cell_type": "code",
   "execution_count": null,
   "id": "3a3e9bcb-1ff4-4f29-963d-fbbf10198d77",
   "metadata": {},
   "outputs": [],
   "source": []
  },
  {
   "cell_type": "markdown",
   "id": "cca0ef96-d632-4aad-aa48-fd7c43394163",
   "metadata": {},
   "source": [
    " # 2.Create a numpy array containing the numbers from 1 to 20, and then extract the elements between the 5th and 15th index."
   ]
  },
  {
   "cell_type": "code",
   "execution_count": 24,
   "id": "64cb288a-aee6-4427-a69b-16a8a16cd16f",
   "metadata": {},
   "outputs": [
    {
     "name": "stdout",
     "output_type": "stream",
     "text": [
      "[ 1  2  3  4  5  6  7  8  9 10 11 12 13 14 15 16 17 18 19 20]\n",
      "Extracted elemnts are: [ 6  7  8  9 10 11 12 13 14 15]\n"
     ]
    }
   ],
   "source": [
    "array=np.arange(1,21)\n",
    "print(array)\n",
    "print(\"Extracted elemnts are:\",array[5:15])"
   ]
  },
  {
   "cell_type": "code",
   "execution_count": null,
   "id": "537f0608-b226-4713-abc5-69ff6c51ce92",
   "metadata": {},
   "outputs": [],
   "source": []
  },
  {
   "cell_type": "markdown",
   "id": "daf35673-6b3a-49cf-8ba4-96f77e39e05e",
   "metadata": {},
   "source": [
    "# 3.Create a Pandas series with the following data: {'apples': 3, 'bananas': 2, 'oranges': 1}. Then, add a new item to the series with the key 'pears' and the value 4"
   ]
  },
  {
   "cell_type": "code",
   "execution_count": 38,
   "id": "df5143cf-8a2a-413d-b54a-1fc7cc6df7dd",
   "metadata": {},
   "outputs": [
    {
     "name": "stdout",
     "output_type": "stream",
     "text": [
      "apples     3\n",
      "bananas    2\n",
      "oranges    1\n",
      "dtype: int64\n",
      "New fruits list is:\n",
      " apples     3\n",
      "bananas    2\n",
      "oranges    1\n",
      "pears      4\n",
      "dtype: int64\n"
     ]
    }
   ],
   "source": [
    "fruits=pd.Series({'apples':3, 'bananas':2, 'oranges':1})\n",
    "print(fruits)\n",
    "fruits['pears']=4\n",
    "print(\"New fruits list is:\\n\",fruits)"
   ]
  },
  {
   "cell_type": "code",
   "execution_count": null,
   "id": "f263ef20-1228-4221-8061-a650e71e11f9",
   "metadata": {},
   "outputs": [],
   "source": []
  },
  {
   "cell_type": "markdown",
   "id": "20c7ed81-9b36-487b-947e-78bf56ca7ae8",
   "metadata": {},
   "source": [
    " # 4.Create a dataframe with the following columns: name, age, and gender. The dataframe should have 10 rows of data"
   ]
  },
  {
   "cell_type": "code",
   "execution_count": 2,
   "id": "4f4a3707-9ade-431d-b3f5-5111a6b65cc5",
   "metadata": {},
   "outputs": [],
   "source": [
    "import random"
   ]
  },
  {
   "cell_type": "code",
   "execution_count": 6,
   "id": "c6454179-c8b5-4c09-958e-4331cdd5f325",
   "metadata": {},
   "outputs": [
    {
     "name": "stdout",
     "output_type": "stream",
     "text": [
      "     Name  Gender  Age\n",
      "0   Kevin    male   52\n",
      "1    lima  female   37\n",
      "2    lima    male   51\n",
      "3   Finly  female   49\n",
      "4   Kevin    male   39\n",
      "5   Kevin  female   26\n",
      "6   Rayan    male   36\n",
      "7    Josh  female   52\n",
      "8   Rayan  female   41\n",
      "9  Amelia  female   43\n"
     ]
    }
   ],
   "source": [
    "Name=['Amelia','Riz','Rayan','Hima','Josh','Kevin','Finly','Rash','lima','Lee','Mia']\n",
    "Gender=['male','female']\n",
    "\n",
    "data={\n",
    "      'Name':[random.choice(Name) for i in range(10)],\n",
    "      'Gender':[random.choice(Gender) for i in range(10)],\n",
    "      'Age':np.random.randint(18,60, size=10)\n",
    "     }   \n",
    "df=pd.DataFrame(data)\n",
    "print(df)"
   ]
  },
  {
   "cell_type": "code",
   "execution_count": null,
   "id": "c12fdf5c-7ccc-40fe-95ce-3d8c2b5309a9",
   "metadata": {},
   "outputs": [],
   "source": []
  },
  {
   "cell_type": "markdown",
   "id": "3f2b6fe9-c5f8-457f-9365-1b2ae4da0172",
   "metadata": {},
   "source": [
    "# 5.Add a new column to the data frame created in question 1, called occupation. The values for this column should be Programmer, Manager, and Analyst, corresponding to the rows in the datafra"
   ]
  },
  {
   "cell_type": "code",
   "execution_count": 54,
   "id": "81033b3f-4da4-415c-99e3-58d279d5925e",
   "metadata": {},
   "outputs": [
    {
     "name": "stdout",
     "output_type": "stream",
     "text": [
      "    Name  Gender  Age Occupations\n",
      "0   Hima  female   58  Programmer\n",
      "1    Mia  female   32  Programmer\n",
      "2    Mia  female   45     Analyst\n",
      "3    Lee  female   25  Programmer\n",
      "4  Finly    male   49  Programmer\n",
      "5   lima    male   21  Programmer\n",
      "6    Riz    male   45  Programmer\n",
      "7    Riz    male   18  Programmer\n",
      "8    Lee    male   58  Programmer\n",
      "9    Mia    male   48     Manager\n"
     ]
    }
   ],
   "source": [
    "Occupations=['Programmer','Manager','Analyst']\n",
    "df['Occupations']=[random.choice(Occupations) for i in range(10)]    # or range in (df.shape[0])\n",
    "print(df)"
   ]
  },
  {
   "cell_type": "code",
   "execution_count": null,
   "id": "1715f6cc-1650-4a2f-af22-80ee6e7dc82e",
   "metadata": {},
   "outputs": [],
   "source": []
  },
  {
   "cell_type": "markdown",
   "id": "9333093f-f06b-4f22-a130-52b25f659e57",
   "metadata": {},
   "source": [
    "# 6.Select the rows of the dataframe where the age is greater than or equal to 30"
   ]
  },
  {
   "cell_type": "code",
   "execution_count": 58,
   "id": "9f9c3a93-da2d-4db8-8974-f519da7c4c6f",
   "metadata": {},
   "outputs": [
    {
     "name": "stdout",
     "output_type": "stream",
     "text": [
      " Data with Age  grater than or equal to 30 is :\n",
      "     Name  Gender  Age Occupations\n",
      "0   Hima  female   58  Programmer\n",
      "1    Mia  female   32  Programmer\n",
      "2    Mia  female   45     Analyst\n",
      "4  Finly    male   49  Programmer\n",
      "6    Riz    male   45  Programmer\n",
      "8    Lee    male   58  Programmer\n",
      "9    Mia    male   48     Manager\n"
     ]
    }
   ],
   "source": [
    " print(\" Data with Age  grater than or equal to 30 is :\\n\",df[df['Age']>=30])"
   ]
  },
  {
   "cell_type": "code",
   "execution_count": null,
   "id": "b51d1d85-5824-42d4-abed-70a0f9c6fb7f",
   "metadata": {},
   "outputs": [],
   "source": []
  },
  {
   "cell_type": "markdown",
   "id": "9d564f8d-9ec5-4c10-9eb1-dbe5d9ab425d",
   "metadata": {},
   "source": [
    "# 7. Convert this dataframe to a csv file and read that csv file, finally display the contents."
   ]
  },
  {
   "cell_type": "code",
   "execution_count": 60,
   "id": "3254fc76-3ab4-473a-90f7-24c4d60d9019",
   "metadata": {},
   "outputs": [
    {
     "name": "stdout",
     "output_type": "stream",
     "text": [
      "The file content is :\n",
      "     Name  Gender  Age Occupations\n",
      "0   Hima  female   58  Programmer\n",
      "1    Mia  female   32  Programmer\n",
      "2    Mia  female   45     Analyst\n",
      "3    Lee  female   25  Programmer\n",
      "4  Finly    male   49  Programmer\n",
      "5   lima    male   21  Programmer\n",
      "6    Riz    male   45  Programmer\n",
      "7    Riz    male   18  Programmer\n",
      "8    Lee    male   58  Programmer\n",
      "9    Mia    male   48     Manager\n"
     ]
    }
   ],
   "source": [
    "df.to_csv(\"Assignment_7.csv\",index=False)\n",
    "READ=pd.read_csv(\"Assignment_7.csv\")\n",
    "print(\"The file content is :\\n\",READ)"
   ]
  },
  {
   "cell_type": "code",
   "execution_count": null,
   "id": "c0f60b69-e730-4df6-b0f5-e1c6e03f70ac",
   "metadata": {},
   "outputs": [],
   "source": []
  }
 ],
 "metadata": {
  "kernelspec": {
   "display_name": "Python 3 (ipykernel)",
   "language": "python",
   "name": "python3"
  },
  "language_info": {
   "codemirror_mode": {
    "name": "ipython",
    "version": 3
   },
   "file_extension": ".py",
   "mimetype": "text/x-python",
   "name": "python",
   "nbconvert_exporter": "python",
   "pygments_lexer": "ipython3",
   "version": "3.12.7"
  }
 },
 "nbformat": 4,
 "nbformat_minor": 5
}
