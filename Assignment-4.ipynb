{
 "cells": [
  {
   "cell_type": "markdown",
   "id": "c950a95d-cfb7-4977-9f7a-d0041bb488b7",
   "metadata": {},
   "source": [
    "1.**Function that takes in three arguments, two of which are optional. The first argument should be a required positional argument, the second argument should be a keyword argument with a default value of 10, and the third argument should be a keyword argument with a default value of None.** "
   ]
  },
  {
   "cell_type": "code",
   "execution_count": 12,
   "id": "f22d75ee-b757-463c-af21-1064102b5c39",
   "metadata": {},
   "outputs": [
    {
     "name": "stdout",
     "output_type": "stream",
     "text": [
      " the sum is: 12\n",
      " the sum is: 6\n",
      " the product is: 40\n"
     ]
    }
   ],
   "source": [
    "def single_function(a,b=10,c=\"none\"):\n",
    " if c ==\"none\":\n",
    "  return a+b\n",
    "\n",
    " else:  \n",
    "  return a*b*c \n",
    "    \n",
    "s=single_function(2)\n",
    "p=single_function(2,4)\n",
    "k=single_function(2,4,5)\n",
    "\n",
    "print(\" the sum is:\",s)\n",
    "print(\" the sum is:\",p)\n",
    "print(\" the product is:\",k)"
   ]
  },
  {
   "cell_type": "code",
   "execution_count": null,
   "id": "cffa1dfe-b088-4fc7-b14d-0d81fbe3101d",
   "metadata": {},
   "outputs": [],
   "source": []
  },
  {
   "cell_type": "markdown",
   "id": "13f47bc2-1392-4963-b815-59532eab2898",
   "metadata": {},
   "source": [
    "2.**Function that takes in a list of strings and returns a new list with only the strings that have a length greater than or equal to 5.**"
   ]
  },
  {
   "cell_type": "code",
   "execution_count": 1,
   "id": "ec0d0061-95b3-438a-aa0e-3925e15dde8d",
   "metadata": {},
   "outputs": [
    {
     "name": "stdout",
     "output_type": "stream",
     "text": [
      "the new list is: ['china', 'new york', 'india', 'chili', 'Denamrk']\n"
     ]
    }
   ],
   "source": [
    "def list_converter(L):\n",
    "  new_list=[]\n",
    "  for i in L:\n",
    "    if len(i)>=5 :\n",
    "      new_list.append(i)\n",
    "  return new_list\n",
    "\n",
    "C=list_converter([\"china\",\"new york\",\"india\",\"chili\",\"USA\",\"Denamrk\",\"UAE\"])\n",
    "\n",
    "print(\"the new list is:\",C)\n",
    "\n",
    "  "
   ]
  },
  {
   "cell_type": "code",
   "execution_count": null,
   "id": "b93dd0a6-d59a-4526-8394-9d7157fe0307",
   "metadata": {},
   "outputs": [],
   "source": []
  },
  {
   "cell_type": "markdown",
   "id": "53104f5c-b915-4694-8014-26e26e269aa0",
   "metadata": {},
   "source": [
    "  3.**Python program to evaluate a given mathematical expression using the eval() function. expression = \"3 * 5 + 2\"**."
   ]
  },
  {
   "cell_type": "code",
   "execution_count": 3,
   "id": "7001d339-132e-4904-9694-98cbbbc7d54b",
   "metadata": {},
   "outputs": [
    {
     "name": "stdout",
     "output_type": "stream",
     "text": [
      " the result is: 17\n"
     ]
    }
   ],
   "source": [
    "expression = \"3 * 5 + 2\"\n",
    "final_answer=eval(expression)             # eval() convert expression to exact equation\n",
    "print(\" the result is:\",final_answer)"
   ]
  },
  {
   "cell_type": "code",
   "execution_count": null,
   "id": "262e7099-aed4-4320-ad18-cc00d40fa164",
   "metadata": {},
   "outputs": [],
   "source": []
  },
  {
   "cell_type": "markdown",
   "id": "f40724dd-66c8-4e9f-a92a-082aba483463",
   "metadata": {},
   "source": [
    "4. **Python program to filter out the prime numbers from a given list of integers using the filter() function.**"
   ]
  },
  {
   "cell_type": "code",
   "execution_count": 6,
   "id": "44e91aec-c8d1-4f67-ac72-73b0f376d6ac",
   "metadata": {},
   "outputs": [
    {
     "name": "stdout",
     "output_type": "stream",
     "text": [
      " the prime numbers are: [2, 3, 17]\n"
     ]
    }
   ],
   "source": [
    "def prime_fun(n):\n",
    "   if n<2:\n",
    "    return False\n",
    "   \n",
    "   elif n==2 :\n",
    "     return True\n",
    "       \n",
    "   elif n%2==0:\n",
    "    return False\n",
    "       \n",
    "   for i in range (3,int(n**1/2)+1,2) :      # check all factors till the sqaure root of the number.\n",
    "        if n%i==0 :\n",
    "         return False\n",
    "        \n",
    "   return True\n",
    "\n",
    "list_numbers=[10,2,3,17,9,8,15]\n",
    "prime_number_list=list(filter(prime_fun,list_numbers))     # filter apply the function to each number in the list and keep the numbers which satidfy the condition.\n",
    "print(\" the prime numbers are:\",prime_number_list)"
   ]
  },
  {
   "cell_type": "code",
   "execution_count": null,
   "id": "6e405124-e807-44da-b533-1448a3241596",
   "metadata": {},
   "outputs": [],
   "source": []
  },
  {
   "cell_type": "markdown",
   "id": "9892b9c6-9ca7-4b9e-980c-549b9140719f",
   "metadata": {},
   "source": [
    "5.**Python program to convert a list of strings to uppercase using the map() function.**"
   ]
  },
  {
   "cell_type": "code",
   "execution_count": 2,
   "id": "b1baf9e8-6207-4371-8933-affd05e66bf8",
   "metadata": {},
   "outputs": [
    {
     "name": "stdout",
     "output_type": "stream",
     "text": [
      " the final list is: ['CAR', 'BIKE', 'CYCLE', 'TRUCK', 'BUS']\n"
     ]
    }
   ],
   "source": [
    "L=[\"car\",\"bike\",\"cycle\",\"truck\",\"bus\"]\n",
    "    \n",
    "final_list= list(map(str.upper,L))                         # map() apply the condition to each strings  in the list of strings.\n",
    "print(\" the final list is:\",final_list)"
   ]
  },
  {
   "cell_type": "code",
   "execution_count": null,
   "id": "f90002c2-e44c-471a-8b28-bcadd86414bc",
   "metadata": {},
   "outputs": [],
   "source": []
  }
 ],
 "metadata": {
  "kernelspec": {
   "display_name": "Python 3 (ipykernel)",
   "language": "python",
   "name": "python3"
  },
  "language_info": {
   "codemirror_mode": {
    "name": "ipython",
    "version": 3
   },
   "file_extension": ".py",
   "mimetype": "text/x-python",
   "name": "python",
   "nbconvert_exporter": "python",
   "pygments_lexer": "ipython3",
   "version": "3.12.7"
  }
 },
 "nbformat": 4,
 "nbformat_minor": 5
}
