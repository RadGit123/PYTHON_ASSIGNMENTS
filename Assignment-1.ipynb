{
 "cells": [
  {
   "cell_type": "markdown",
   "id": "3478c2bf-92b9-4dd9-b8a7-6a7e09648507",
   "metadata": {},
   "source": [
    "*PYTHON FUNDAMENTALS*"
   ]
  },
  {
   "cell_type": "markdown",
   "id": "53640b9b-672c-4e54-8116-85f990705174",
   "metadata": {},
   "source": [
    "**Excercise 1**"
   ]
  },
  {
   "cell_type": "code",
   "execution_count": 10,
   "id": "83b4df3f-bc4d-4066-8bc0-d48cc183c64e",
   "metadata": {},
   "outputs": [],
   "source": [
    "Name = 'Radhika'\n",
    "SN = 1016\n",
    "EM = 'radhikaps70@gmail.com'"
   ]
  },
  {
   "cell_type": "code",
   "execution_count": 11,
   "id": "8c87af71-aea9-4455-9c2e-f894b52cfe39",
   "metadata": {},
   "outputs": [
    {
     "name": "stdout",
     "output_type": "stream",
     "text": [
      "The name of the student is: Radhika\n",
      "The Student number is: 1016\n",
      "The Email of the student is: radhikaps70@gmail.com\n"
     ]
    }
   ],
   "source": [
    "print('The name of the student is:', Name)\n",
    "print('The Student number is:', SN)\n",
    "print('The Email of the student is:', EM)"
   ]
  },
  {
   "cell_type": "raw",
   "id": "52bd7f1d-e03f-4f1a-97fa-1af370b30494",
   "metadata": {},
   "source": [
    "# OR"
   ]
  },
  {
   "cell_type": "code",
   "execution_count": 1,
   "id": "9f75a070-2878-4b92-b52c-7b1a82f0599e",
   "metadata": {},
   "outputs": [
    {
     "name": "stdout",
     "output_type": "stream",
     "text": [
      "Radhika\n",
      "1016\n",
      "radhikaps70@gmail.com\n"
     ]
    }
   ],
   "source": [
    "print('Radhika')\n",
    "print('1016')\n",
    "print('radhikaps70@gmail.com')"
   ]
  },
  {
   "cell_type": "code",
   "execution_count": null,
   "id": "5121cf94-1a4f-4cd3-aa86-3566d63ae999",
   "metadata": {},
   "outputs": [],
   "source": []
  },
  {
   "cell_type": "markdown",
   "id": "def7b2cc-c492-4c30-aa3f-35e754d53384",
   "metadata": {},
   "source": [
    "Excercise 2\n"
   ]
  },
  {
   "cell_type": "code",
   "execution_count": 3,
   "id": "e6287fe1-5134-4e27-bdcd-7733a3a7d038",
   "metadata": {},
   "outputs": [
    {
     "name": "stdout",
     "output_type": "stream",
     "text": [
      "Name:Radhika\n",
      "Student number:1016\n",
      "Email:radhikaps70@gmail.com\n"
     ]
    }
   ],
   "source": [
    "\n",
    "Name = 'Radhika'\n",
    "SN = 1016\n",
    "EM = 'radhikaps70@gmail.com'\n",
    "print('Name:' +Name+'\\nStudent number:' +str(SN)+ '\\nEmail:'+EM)\n"
   ]
  },
  {
   "cell_type": "raw",
   "id": "f427c5ee-b0b1-4632-b1cf-e9d65219f5d2",
   "metadata": {},
   "source": [
    "# OR"
   ]
  },
  {
   "cell_type": "code",
   "execution_count": 31,
   "id": "636f9da0-fccc-49b2-9e48-4ed355ca7e4a",
   "metadata": {},
   "outputs": [
    {
     "name": "stdout",
     "output_type": "stream",
     "text": [
      "Radhika\n",
      "1016\n",
      "radhikaps70@gmail.com\n"
     ]
    }
   ],
   "source": [
    "print('Radhika\\n1016\\nradhikaps70@gmail.com')"
   ]
  },
  {
   "cell_type": "code",
   "execution_count": null,
   "id": "7cfca535-b21c-4482-b1d8-1e3a8525a08b",
   "metadata": {},
   "outputs": [],
   "source": []
  },
  {
   "cell_type": "markdown",
   "id": "03c8186f-7aff-4df5-ae23-80727241f32d",
   "metadata": {},
   "source": [
    "Excercise 3"
   ]
  },
  {
   "cell_type": "code",
   "execution_count": 9,
   "id": "ba4f558e-c32a-44b7-aefc-14a0c5619dd2",
   "metadata": {},
   "outputs": [],
   "source": [
    "a=14\n",
    "b=7\n",
    "c=a+b\n",
    "d=a-b\n",
    "e=a*b\n",
    "f=a/b\n"
   ]
  },
  {
   "cell_type": "code",
   "execution_count": 12,
   "id": "f41c0a0a-2e3d-46bf-9482-0148112989b9",
   "metadata": {},
   "outputs": [
    {
     "name": "stdout",
     "output_type": "stream",
     "text": [
      "The sum is:, 14+7=21\n",
      "The subtraction is: 14-7=7\n",
      "The productis:, 14*7=98\n",
      "The division is: ,14/7=2.0\n"
     ]
    }
   ],
   "source": [
    "print(f'The sum is:, {a}+{b}={c}')\n",
    "print(f'The subtraction is: {a}-{b}={d}')\n",
    "print(f'The productis:, {a}*{b}={e}')\n",
    "print(f'The division is: ,{a}/{b}={f}')"
   ]
  },
  {
   "cell_type": "code",
   "execution_count": null,
   "id": "7a44c582-0259-4f6d-9a91-ac156f1b9093",
   "metadata": {},
   "outputs": [],
   "source": []
  },
  {
   "cell_type": "markdown",
   "id": "ce8e4697-4137-463f-864b-c2be1bbc19f8",
   "metadata": {},
   "source": [
    "Excercise 4"
   ]
  },
  {
   "cell_type": "code",
   "execution_count": 38,
   "id": "5ade6351-0d63-444f-a45c-1b728c1a8911",
   "metadata": {},
   "outputs": [
    {
     "name": "stdout",
     "output_type": "stream",
     "text": [
      "1\n",
      "2\n",
      "3\n",
      "4\n",
      "5\n"
     ]
    }
   ],
   "source": [
    "for i in range(1,6):\n",
    " print(i)"
   ]
  },
  {
   "cell_type": "code",
   "execution_count": null,
   "id": "097afab3-7055-4fba-92c3-f76078051d65",
   "metadata": {},
   "outputs": [],
   "source": []
  },
  {
   "cell_type": "markdown",
   "id": "a96fb6cc-6c2c-45dc-ae13-0bd618f08ab0",
   "metadata": {},
   "source": [
    "Excercise 5"
   ]
  },
  {
   "cell_type": "code",
   "execution_count": 45,
   "id": "2c82aa12-9476-473b-9b75-2e6bf829dbac",
   "metadata": {},
   "outputs": [
    {
     "name": "stdout",
     "output_type": "stream",
     "text": [
      "\"SDK\"stands for \"Software Development Kit \",where as\n",
      "\"IDE\" stands for \"Integrated Development Enviornment\".\n"
     ]
    }
   ],
   "source": [
    "print('\\\"SDK\\\"stands for \\\"Software Development Kit \\\",where as\\n\\\"IDE\\\" stands for \\\"Integrated Development Enviornment\\\".')"
   ]
  },
  {
   "cell_type": "code",
   "execution_count": null,
   "id": "5f3bbe90-7f6c-4f2e-818f-5ab1cbc8e838",
   "metadata": {},
   "outputs": [],
   "source": []
  },
  {
   "cell_type": "markdown",
   "id": "7aa58fc8-d31b-4b90-ac4f-347a37a4ac68",
   "metadata": {},
   "source": [
    "Excercise 6"
   ]
  },
  {
   "cell_type": "code",
   "execution_count": 46,
   "id": "c36ede57-a4e7-42ee-b8a4-5705ca964dd1",
   "metadata": {},
   "outputs": [
    {
     "name": "stdout",
     "output_type": "stream",
     "text": [
      "python is an \"awesome\" language.\n",
      "python\n",
      "\t2023\n",
      "I'm from Entri\n",
      "5\n",
      "e\n",
      "Entri\n",
      "2023\n",
      "Entr2023\n",
      "Entri*20"
     ]
    }
   ],
   "source": [
    "\n",
    "print(\"python is an \\\"awesome\\\" language.\")\n",
    "print(\"python\\n\\t2023\")\n",
    "print('I\\'m from Entri.\\b')\n",
    "print(\"\\65\")\n",
    "print(\"\\x65\")\n",
    "print(\"Entri\", \"2023\", sep=\"\\n\")\n",
    "print(\"Entri\", \"2023\", sep=\"\\b\")\n",
    "print(\"Entri\", \"2023\", sep=\"*\", end=\"\\b\\b\\b\\b\")\n"
   ]
  },
  {
   "cell_type": "code",
   "execution_count": null,
   "id": "cb77e0a2-3cb9-4f36-9d0c-ac0cb8ee8044",
   "metadata": {},
   "outputs": [],
   "source": []
  },
  {
   "cell_type": "markdown",
   "id": "ffc57cd6-ad28-4c2e-b4e2-03bfa551c8ac",
   "metadata": {},
   "source": [
    "Excercise 7"
   ]
  },
  {
   "cell_type": "code",
   "execution_count": 1,
   "id": "785d10cd-f31a-436c-b3bb-c6e8959fdea4",
   "metadata": {},
   "outputs": [],
   "source": [
    "num=23\n",
    "Text_num='57'\n",
    "Decimal=98.3\n",
    "\n"
   ]
  },
  {
   "cell_type": "code",
   "execution_count": 2,
   "id": "95122f3f-8648-4f4d-9465-e82afbcc7300",
   "metadata": {},
   "outputs": [
    {
     "name": "stdout",
     "output_type": "stream",
     "text": [
      "Type of num is: <class 'int'>\n",
      "Type ofText_num is: <class 'str'>\n",
      "Type of Decimal is: <class 'float'>\n"
     ]
    }
   ],
   "source": [
    "print('Type of num is:', type(num))\n",
    "print('Type ofText_num is:', type(Text_num))\n",
    "print('Type of Decimal is:', type(Decimal))"
   ]
  },
  {
   "cell_type": "code",
   "execution_count": 4,
   "id": "59a8733c-e428-4e5f-a962-09d793e5b6d9",
   "metadata": {},
   "outputs": [
    {
     "name": "stdout",
     "output_type": "stream",
     "text": [
      "sum is: 178.3\n",
      "type of sum is: <class 'float'>\n"
     ]
    }
   ],
   "source": [
    "sum=num+int(Text_num)+Decimal   # text num is converted to int from str data type\n",
    "print('sum is:',sum )\n",
    "print('type of sum is:',type(sum))"
   ]
  },
  {
   "cell_type": "markdown",
   "id": "9af8f33c-b484-4da0-89f4-8e8834f2d158",
   "metadata": {},
   "source": []
  },
  {
   "cell_type": "markdown",
   "id": "d8d02d7a-3379-40e7-9c92-ae0e2d4e0cb4",
   "metadata": {},
   "source": [
    "Excercise 8"
   ]
  },
  {
   "cell_type": "code",
   "execution_count": 5,
   "id": "86cb8d31-1561-45e1-bfb9-0b5c71fdf5d1",
   "metadata": {},
   "outputs": [],
   "source": [
    "NDY=365\n",
    "HD=24\n",
    "MH=60"
   ]
  },
  {
   "cell_type": "code",
   "execution_count": 8,
   "id": "f476e8e3-ddc1-4973-8bc1-ebe67caf43b7",
   "metadata": {},
   "outputs": [
    {
     "name": "stdout",
     "output_type": "stream",
     "text": [
      "number of minutes in an year is: 525600\n"
     ]
    }
   ],
   "source": [
    "NMY=NDY*HD*MH\n",
    "print('number of minutes in an year is:',NMY)"
   ]
  },
  {
   "cell_type": "code",
   "execution_count": null,
   "id": "0aaea4f2-ba80-44ed-8048-c0ee37600580",
   "metadata": {},
   "outputs": [],
   "source": []
  },
  {
   "cell_type": "markdown",
   "id": "86ad7107-c1d6-492e-89b5-1373c9a32165",
   "metadata": {},
   "source": [
    "Excercise 9"
   ]
  },
  {
   "cell_type": "code",
   "execution_count": 21,
   "id": "65a1fba9-8563-4255-b940-245f1cc4802b",
   "metadata": {},
   "outputs": [
    {
     "name": "stdin",
     "output_type": "stream",
     "text": [
      "Enter your Name Radhika\n"
     ]
    },
    {
     "name": "stdout",
     "output_type": "stream",
     "text": [
      "Hi,Radhika,Welcome to python programming :)\n"
     ]
    }
   ],
   "source": [
    "Name=input('Enter your Name')\n",
    "print(f'Hi,{ Name},Welcome to python programming :)')"
   ]
  },
  {
   "cell_type": "raw",
   "id": "5f65215c-d148-4259-8982-b8c081cdcba3",
   "metadata": {},
   "source": [
    "# OR"
   ]
  },
  {
   "cell_type": "code",
   "execution_count": 14,
   "id": "30a03b13-146c-4cf3-a18a-7cd677a9997f",
   "metadata": {},
   "outputs": [
    {
     "name": "stdin",
     "output_type": "stream",
     "text": [
      "Enter your Name Radhika\n"
     ]
    },
    {
     "name": "stdout",
     "output_type": "stream",
     "text": [
      "Hi Radhika\tWelcome to python programming :)\n"
     ]
    }
   ],
   "source": [
    "Name=input('Enter your Name')\n",
    "print('Hi' , Name + '\\tWelcome to python programming :)')"
   ]
  },
  {
   "cell_type": "raw",
   "id": "8c02464f-c574-40a7-bfe1-ef5421512784",
   "metadata": {},
   "source": []
  },
  {
   "cell_type": "code",
   "execution_count": null,
   "id": "7d6586dd-7c8b-4e47-a54a-a12db55b553c",
   "metadata": {},
   "outputs": [],
   "source": []
  },
  {
   "cell_type": "markdown",
   "id": "38d2d2fa-fc4e-4313-9ef6-aeda1a8818d4",
   "metadata": {},
   "source": [
    "Excercise 10"
   ]
  },
  {
   "cell_type": "code",
   "execution_count": 27,
   "id": "9b931ff8-0fe4-4f92-add6-6efd971b6d1e",
   "metadata": {},
   "outputs": [
    {
     "name": "stdin",
     "output_type": "stream",
     "text": [
      "Enter your amount in POUND: 30\n"
     ]
    },
    {
     "name": "stdout",
     "output_type": "stream",
     "text": [
      "30.0 Pounds are 37.2 Dollars\n"
     ]
    }
   ],
   "source": [
    "###rate=1.24\n",
    "P=float(input('Enter your amount in POUND:'))\n",
    "A= P*rate\n",
    "print( P ,'Pounds are', A,'Dollars')\n"
   ]
  },
  {
   "cell_type": "raw",
   "id": "be469122-bcc3-4a44-8ff0-482f2aadce52",
   "metadata": {},
   "source": [
    "# OR"
   ]
  },
  {
   "cell_type": "code",
   "execution_count": 25,
   "id": "7e0d2531-6d5c-4339-b894-678803a0e556",
   "metadata": {},
   "outputs": [
    {
     "name": "stdin",
     "output_type": "stream",
     "text": [
      "Enter your amount in POUND: 30\n"
     ]
    },
    {
     "name": "stdout",
     "output_type": "stream",
     "text": [
      "30.0 Pounds are 37.2 Dollars\n"
     ]
    }
   ],
   "source": [
    "rate=1.24\n",
    "P=float(input('Enter your amount in POUND:'))\n",
    "A= P*rate\n",
    "print( f'{P} Pounds are {A} Dollars')\n"
   ]
  },
  {
   "cell_type": "raw",
   "id": "f5e56cd0-6495-46a9-ae89-d8685bb64900",
   "metadata": {},
   "source": [
    "# OR"
   ]
  },
  {
   "cell_type": "code",
   "execution_count": 26,
   "id": "46ca59ca-c56f-45a0-9af2-c759cb29de2c",
   "metadata": {},
   "outputs": [
    {
     "name": "stdin",
     "output_type": "stream",
     "text": [
      "Enter your amount in POUND: 30\n"
     ]
    },
    {
     "name": "stdout",
     "output_type": "stream",
     "text": [
      "30.0 Pounds are 37.2 Dollars \n"
     ]
    }
   ],
   "source": [
    " rate=1.24\n",
    "P=float(input('Enter your amount in POUND:'))\n",
    "A= P*rate\n",
    "print(str(P) + ' Pounds are '  +  str(A)  + ' Dollars ')\n"
   ]
  },
  {
   "cell_type": "raw",
   "id": "297eebf0-61e6-41aa-b495-848e7b0cf80d",
   "metadata": {},
   "source": []
  },
  {
   "cell_type": "code",
   "execution_count": null,
   "id": "77b9aef3-40ee-482b-94b8-1a8b3b588859",
   "metadata": {},
   "outputs": [],
   "source": []
  }
 ],
 "metadata": {
  "kernelspec": {
   "display_name": "Python 3 (ipykernel)",
   "language": "python",
   "name": "python3"
  },
  "language_info": {
   "codemirror_mode": {
    "name": "ipython",
    "version": 3
   },
   "file_extension": ".py",
   "mimetype": "text/x-python",
   "name": "python",
   "nbconvert_exporter": "python",
   "pygments_lexer": "ipython3",
   "version": "3.12.7"
  }
 },
 "nbformat": 4,
 "nbformat_minor": 5
}
