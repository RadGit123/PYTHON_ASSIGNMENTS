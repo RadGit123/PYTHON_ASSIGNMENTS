{
 "cells": [
  {
   "cell_type": "markdown",
   "id": "212e4522-56ae-4917-a812-20409671ce57",
   "metadata": {},
   "source": [
    "Question:2 Python module named employee that contains a class Employee with attributes name, salary and methods get_name() and get_salary(). Write a program to use this module to create an object of the Employee class and display its name and salary.\n"
   ]
  },
  {
   "cell_type": "code",
   "execution_count": 1,
   "id": "219e8384-4c9f-42f8-ba59-eab53c696b9d",
   "metadata": {},
   "outputs": [],
   "source": [
    "from employee import Employee"
   ]
  },
  {
   "cell_type": "code",
   "execution_count": 3,
   "id": "0034e1df-f688-4b1e-890c-4e16eb3c46f9",
   "metadata": {},
   "outputs": [
    {
     "name": "stdout",
     "output_type": "stream",
     "text": [
      "Employee Name is :Rayan\n",
      "Salary is :35000\n"
     ]
    }
   ],
   "source": [
    "\n",
    "EM=Employee(\"Rayan\",35000)\n",
    "\n",
    "print(f\"Employee Name is :{EM.get_name()}\")\n",
    "print(f\"Salary is :{EM.get_salary()}\")"
   ]
  },
  {
   "cell_type": "code",
   "execution_count": null,
   "id": "6fb95094-a41c-446c-aebb-db45f9fd373a",
   "metadata": {},
   "outputs": [],
   "source": []
  },
  {
   "cell_type": "code",
   "execution_count": null,
   "id": "1a5a1b4e-1866-475c-9414-dfb54c094ef0",
   "metadata": {},
   "outputs": [],
   "source": []
  }
 ],
 "metadata": {
  "kernelspec": {
   "display_name": "Python 3 (ipykernel)",
   "language": "python",
   "name": "python3"
  },
  "language_info": {
   "codemirror_mode": {
    "name": "ipython",
    "version": 3
   },
   "file_extension": ".py",
   "mimetype": "text/x-python",
   "name": "python",
   "nbconvert_exporter": "python",
   "pygments_lexer": "ipython3",
   "version": "3.12.7"
  }
 },
 "nbformat": 4,
 "nbformat_minor": 5
}
