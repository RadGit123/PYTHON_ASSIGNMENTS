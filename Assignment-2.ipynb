{
 "cells": [
  {
   "cell_type": "markdown",
   "id": "da26e675-9fd6-4e3b-81da-9c8edb7e54b4",
   "metadata": {},
   "source": [
    "DATA STRUCTURES IN PYTHON"
   ]
  },
  {
   "cell_type": "code",
   "execution_count": null,
   "id": "721360a1-08fb-472d-a68c-cdc7ab2711c7",
   "metadata": {},
   "outputs": [],
   "source": [
    "###1 LIST"
   ]
  },
  {
   "cell_type": "code",
   "execution_count": 1,
   "id": "0b641092-22c6-4372-aa26-bdcd3a9fc3f3",
   "metadata": {},
   "outputs": [
    {
     "name": "stdout",
     "output_type": "stream",
     "text": [
      "[20, 40, 30, 15, 20]\n"
     ]
    }
   ],
   "source": [
    "Num_List=[20,40,30,15,20,]\n",
    "print( Num_List)\n"
   ]
  },
  {
   "cell_type": "code",
   "execution_count": 2,
   "id": "c578b2d7-bf57-4e92-8391-cc758c32fefe",
   "metadata": {},
   "outputs": [],
   "source": [
    "Num_List.append(60)\n",
    "Num_List.append(65)\n",
    "Num_List.append(70)"
   ]
  },
  {
   "cell_type": "code",
   "execution_count": 3,
   "id": "8d815518-d739-4f78-a93f-056094e2c76d",
   "metadata": {},
   "outputs": [
    {
     "name": "stdout",
     "output_type": "stream",
     "text": [
      "[20, 40, 30, 15, 20, 60, 65, 70]\n"
     ]
    }
   ],
   "source": [
    "print( Num_List)"
   ]
  },
  {
   "cell_type": "code",
   "execution_count": 13,
   "id": "dcbf7c17-21d4-463f-94c0-3175dcceed9a",
   "metadata": {},
   "outputs": [
    {
     "name": "stdout",
     "output_type": "stream",
     "text": [
      "20\n",
      "40\n",
      "30\n",
      "15\n",
      "20\n",
      "60\n",
      "65\n",
      "70\n"
     ]
    }
   ],
   "source": [
    "for i in Num_List:\n",
    " print(i)"
   ]
  },
  {
   "cell_type": "code",
   "execution_count": null,
   "id": "61c71e6d-5def-4a76-aa2b-0006ffb6de6e",
   "metadata": {},
   "outputs": [],
   "source": []
  },
  {
   "cell_type": "markdown",
   "id": "44323f18-5a9c-4b1f-8ff1-2a471b36a5d1",
   "metadata": {},
   "source": [
    "2.DICTIONARY"
   ]
  },
  {
   "cell_type": "code",
   "execution_count": 16,
   "id": "59a53728-989a-4605-855b-0d332f773215",
   "metadata": {},
   "outputs": [
    {
     "name": "stdout",
     "output_type": "stream",
     "text": [
      "{'Name': 'John', 'Age': 25, 'Address': 'New york'}\n"
     ]
    }
   ],
   "source": [
    "Dict_1={'Name':'John','Age':25,'Address':'New york'}\n",
    "print(Dict_1)"
   ]
  },
  {
   "cell_type": "code",
   "execution_count": 18,
   "id": "b3b27dc0-61c2-4389-94de-51fad7f3540c",
   "metadata": {},
   "outputs": [
    {
     "name": "stdout",
     "output_type": "stream",
     "text": [
      "{'Name': 'John', 'Age': 25, 'Address': 'New york', 'Phone': 1234567890}\n"
     ]
    }
   ],
   "source": [
    "Dict_1['Phone']=1234567890\n",
    "print(Dict_1)"
   ]
  },
  {
   "cell_type": "code",
   "execution_count": null,
   "id": "f8c40f4e-da9c-438b-afc0-3a460ae3e6b7",
   "metadata": {},
   "outputs": [],
   "source": []
  },
  {
   "cell_type": "markdown",
   "id": "5e74966a-ead0-4e0f-aeea-45c53bd92c55",
   "metadata": {},
   "source": [
    "3.SET"
   ]
  },
  {
   "cell_type": "code",
   "execution_count": 20,
   "id": "a73259be-ae00-4482-bef9-7b2d811b877f",
   "metadata": {},
   "outputs": [],
   "source": [
    "Set_1={1,2,3,4,5}\n"
   ]
  },
  {
   "cell_type": "code",
   "execution_count": 22,
   "id": "6840c77d-3769-4153-a780-91b4f9e2bec0",
   "metadata": {},
   "outputs": [],
   "source": [
    "Set_1.add(6)"
   ]
  },
  {
   "cell_type": "code",
   "execution_count": 23,
   "id": "59480655-b9fd-486f-bf8b-92ec0a624415",
   "metadata": {},
   "outputs": [
    {
     "name": "stdout",
     "output_type": "stream",
     "text": [
      "{1, 2, 3, 4, 5, 6}\n"
     ]
    }
   ],
   "source": [
    "print(Set_1)"
   ]
  },
  {
   "cell_type": "code",
   "execution_count": 24,
   "id": "bd57a051-83a6-47f4-9287-73ad07b97a1c",
   "metadata": {},
   "outputs": [],
   "source": [
    "Set_1.remove(3)"
   ]
  },
  {
   "cell_type": "code",
   "execution_count": 25,
   "id": "8e90daad-7d81-418f-851a-cee4d47dc0b8",
   "metadata": {},
   "outputs": [
    {
     "name": "stdout",
     "output_type": "stream",
     "text": [
      "{1, 2, 4, 5, 6}\n"
     ]
    }
   ],
   "source": [
    "print(Set_1)"
   ]
  },
  {
   "cell_type": "code",
   "execution_count": null,
   "id": "d167b453-cff4-4124-80cc-c281bbb9b8b3",
   "metadata": {},
   "outputs": [],
   "source": []
  },
  {
   "cell_type": "markdown",
   "id": "d8889108-5525-4ec3-a546-2731fc1bc8a8",
   "metadata": {},
   "source": [
    "4.TUPLE"
   ]
  },
  {
   "cell_type": "code",
   "execution_count": 26,
   "id": "21b59eb6-55f0-4660-a887-27e286ee75fe",
   "metadata": {},
   "outputs": [],
   "source": [
    "Tup_1=(1,2,3)"
   ]
  },
  {
   "cell_type": "code",
   "execution_count": 27,
   "id": "f7f59d4b-2bc7-46b2-8984-e06404d222b2",
   "metadata": {},
   "outputs": [
    {
     "name": "stdout",
     "output_type": "stream",
     "text": [
      "Length of tuple is: 3\n"
     ]
    }
   ],
   "source": [
    "print('Length of tuple is:',len(Tup_1))"
   ]
  },
  {
   "cell_type": "code",
   "execution_count": 28,
   "id": "63913211-a628-4059-9bca-c7e1f359fcc6",
   "metadata": {},
   "outputs": [
    {
     "name": "stdout",
     "output_type": "stream",
     "text": [
      "(1, 2, 3)\n"
     ]
    }
   ],
   "source": [
    "print(Tup_1)"
   ]
  },
  {
   "cell_type": "code",
   "execution_count": null,
   "id": "971f5754-3062-484a-bf65-f32f52de1553",
   "metadata": {},
   "outputs": [],
   "source": []
  }
 ],
 "metadata": {
  "kernelspec": {
   "display_name": "Python 3 (ipykernel)",
   "language": "python",
   "name": "python3"
  },
  "language_info": {
   "codemirror_mode": {
    "name": "ipython",
    "version": 3
   },
   "file_extension": ".py",
   "mimetype": "text/x-python",
   "name": "python",
   "nbconvert_exporter": "python",
   "pygments_lexer": "ipython3",
   "version": "3.12.7"
  }
 },
 "nbformat": 4,
 "nbformat_minor": 5
}
